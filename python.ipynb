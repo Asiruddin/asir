{
 "cells": [
  {
   "cell_type": "code",
   "execution_count": 7,
   "id": "14568a8d-d08f-4ec5-8a38-789afc10a93d",
   "metadata": {},
   "outputs": [],
   "source": [
    "v=8+9j"
   ]
  },
  {
   "cell_type": "code",
   "execution_count": 8,
   "id": "0ce7ed38-1593-47bd-a4ff-6f69c81d04ee",
   "metadata": {},
   "outputs": [
    {
     "data": {
      "text/plain": [
       "complex"
      ]
     },
     "execution_count": 8,
     "metadata": {},
     "output_type": "execute_result"
    }
   ],
   "source": [
    "type(v)"
   ]
  },
  {
   "cell_type": "code",
   "execution_count": 9,
   "id": "06ce9038-1ae5-43cf-b305-0d56b5dcb27c",
   "metadata": {},
   "outputs": [
    {
     "data": {
      "text/plain": [
       "8.0"
      ]
     },
     "execution_count": 9,
     "metadata": {},
     "output_type": "execute_result"
    }
   ],
   "source": [
    "v.real"
   ]
  },
  {
   "cell_type": "code",
   "execution_count": 13,
   "id": "60ae32be-2e6b-4b61-8de2-e87a095bdbdd",
   "metadata": {},
   "outputs": [
    {
     "data": {
      "text/plain": [
       "9.0"
      ]
     },
     "execution_count": 13,
     "metadata": {},
     "output_type": "execute_result"
    }
   ],
   "source": [
    "v.imag"
   ]
  },
  {
   "cell_type": "code",
   "execution_count": 14,
   "id": "8263b1b3-4b81-41dd-8246-f1f5c8e6d648",
   "metadata": {},
   "outputs": [
    {
     "data": {
      "text/plain": [
       "complex"
      ]
     },
     "execution_count": 14,
     "metadata": {},
     "output_type": "execute_result"
    }
   ],
   "source": [
    "type(v)"
   ]
  },
  {
   "cell_type": "code",
   "execution_count": 15,
   "id": "74f0ee6b-1969-4561-8755-2fca3a93be2c",
   "metadata": {},
   "outputs": [
    {
     "name": "stdout",
     "output_type": "stream",
     "text": [
      "hi\n"
     ]
    }
   ],
   "source": [
    "print(\"hi\")"
   ]
  },
  {
   "cell_type": "code",
   "execution_count": 16,
   "id": "da6e3ca8-023e-42d1-b730-603ec4078135",
   "metadata": {},
   "outputs": [
    {
     "name": "stdout",
     "output_type": "stream",
     "text": [
      "(8+9j)\n"
     ]
    }
   ],
   "source": [
    "print(v)"
   ]
  },
  {
   "cell_type": "code",
   "execution_count": 17,
   "id": "79ecaab4-1264-4897-a33d-7670c4c284c1",
   "metadata": {},
   "outputs": [],
   "source": [
    "s=\"pwskills\""
   ]
  },
  {
   "cell_type": "code",
   "execution_count": 18,
   "id": "31bbe9b7-2dcc-4b29-b769-4abebcbbfa5e",
   "metadata": {},
   "outputs": [
    {
     "data": {
      "text/plain": [
       "str"
      ]
     },
     "execution_count": 18,
     "metadata": {},
     "output_type": "execute_result"
    }
   ],
   "source": [
    "type(s)\n"
   ]
  },
  {
   "cell_type": "code",
   "execution_count": 19,
   "id": "2ac3092d-e64b-4ea7-8bf7-d04b0ffa5b73",
   "metadata": {},
   "outputs": [
    {
     "name": "stdout",
     "output_type": "stream",
     "text": [
      "pwskills\n"
     ]
    }
   ],
   "source": [
    "print(s)"
   ]
  },
  {
   "cell_type": "code",
   "execution_count": 20,
   "id": "c82c571d-6cdf-4b32-8edb-f7243936cbfb",
   "metadata": {},
   "outputs": [
    {
     "data": {
      "text/plain": [
       "'p'"
      ]
     },
     "execution_count": 20,
     "metadata": {},
     "output_type": "execute_result"
    }
   ],
   "source": [
    "s[0]"
   ]
  },
  {
   "cell_type": "code",
   "execution_count": 21,
   "id": "e15866ae-d5f1-443c-b72d-f07cb309d668",
   "metadata": {},
   "outputs": [
    {
     "data": {
      "text/plain": [
       "'s'"
      ]
     },
     "execution_count": 21,
     "metadata": {},
     "output_type": "execute_result"
    }
   ],
   "source": [
    "s[2]"
   ]
  },
  {
   "cell_type": "code",
   "execution_count": 22,
   "id": "98837a1d-1352-49ea-bd89-dfd3cd80a33a",
   "metadata": {},
   "outputs": [
    {
     "data": {
      "text/plain": [
       "'p'"
      ]
     },
     "execution_count": 22,
     "metadata": {},
     "output_type": "execute_result"
    }
   ],
   "source": [
    "s[-8]"
   ]
  },
  {
   "cell_type": "code",
   "execution_count": 24,
   "id": "afe6bc75-20f3-4823-92d0-9aa85e17f797",
   "metadata": {},
   "outputs": [
    {
     "data": {
      "text/plain": [
       "'pwsk'"
      ]
     },
     "execution_count": 24,
     "metadata": {},
     "output_type": "execute_result"
    }
   ],
   "source": [
    "s[0:4]"
   ]
  },
  {
   "cell_type": "code",
   "execution_count": 25,
   "id": "d8af84a6-a82b-44c8-984b-76b2dc41e510",
   "metadata": {},
   "outputs": [
    {
     "data": {
      "text/plain": [
       "'psil'"
      ]
     },
     "execution_count": 25,
     "metadata": {},
     "output_type": "execute_result"
    }
   ],
   "source": [
    "s[0:8:2]"
   ]
  },
  {
   "cell_type": "code",
   "execution_count": 26,
   "id": "4b130ffb-de6e-4266-907b-0d2c3f186d57",
   "metadata": {},
   "outputs": [
    {
     "data": {
      "text/plain": [
       "'wskills'"
      ]
     },
     "execution_count": 26,
     "metadata": {},
     "output_type": "execute_result"
    }
   ],
   "source": [
    "s[1:8:1]"
   ]
  },
  {
   "cell_type": "code",
   "execution_count": 27,
   "id": "b5a5f611-0fd3-4e33-8743-2a7d8127c636",
   "metadata": {},
   "outputs": [
    {
     "data": {
      "text/plain": [
       "'psil'"
      ]
     },
     "execution_count": 27,
     "metadata": {},
     "output_type": "execute_result"
    }
   ],
   "source": [
    "s[::2]"
   ]
  },
  {
   "cell_type": "code",
   "execution_count": 28,
   "id": "69c1f0af-5980-4a61-9e18-19b80304f800",
   "metadata": {},
   "outputs": [
    {
     "data": {
      "text/plain": [
       "'sllikswp'"
      ]
     },
     "execution_count": 28,
     "metadata": {},
     "output_type": "execute_result"
    }
   ],
   "source": [
    "s[::-1]"
   ]
  },
  {
   "cell_type": "code",
   "execution_count": 29,
   "id": "85085f34-70fb-492d-9a41-0fe78022fb14",
   "metadata": {},
   "outputs": [
    {
     "data": {
      "text/plain": [
       "''"
      ]
     },
     "execution_count": 29,
     "metadata": {},
     "output_type": "execute_result"
    }
   ],
   "source": [
    "s[1:8:-1]"
   ]
  },
  {
   "cell_type": "code",
   "execution_count": 30,
   "id": "44a99afe-e2d3-4a65-b53f-7595ab29c3b7",
   "metadata": {},
   "outputs": [],
   "source": [
    "s1=\"my name is asir\""
   ]
  },
  {
   "cell_type": "code",
   "execution_count": 31,
   "id": "bf465c7d-ac36-48df-94c3-24d7221228c1",
   "metadata": {},
   "outputs": [
    {
     "data": {
      "text/plain": [
       "15"
      ]
     },
     "execution_count": 31,
     "metadata": {},
     "output_type": "execute_result"
    }
   ],
   "source": [
    "len(s1)"
   ]
  },
  {
   "cell_type": "code",
   "execution_count": 32,
   "id": "7c45346f-299c-4855-883a-abafc02f7c13",
   "metadata": {},
   "outputs": [
    {
     "data": {
      "text/plain": [
       "3"
      ]
     },
     "execution_count": 32,
     "metadata": {},
     "output_type": "execute_result"
    }
   ],
   "source": [
    "s1.find(\"n\")"
   ]
  },
  {
   "cell_type": "code",
   "execution_count": 35,
   "id": "bf7d54e6-1b62-4cd1-84bc-b4bfca07c5d5",
   "metadata": {},
   "outputs": [
    {
     "data": {
      "text/plain": [
       "2"
      ]
     },
     "execution_count": 35,
     "metadata": {},
     "output_type": "execute_result"
    }
   ],
   "source": [
    "s1.count(\"i\")"
   ]
  },
  {
   "cell_type": "code",
   "execution_count": 36,
   "id": "172ed4d3-ca7e-40ce-ace1-b36c955582ab",
   "metadata": {},
   "outputs": [
    {
     "data": {
      "text/plain": [
       "'my name is asir'"
      ]
     },
     "execution_count": 36,
     "metadata": {},
     "output_type": "execute_result"
    }
   ],
   "source": [
    "s1.translate(\"is\")"
   ]
  },
  {
   "cell_type": "code",
   "execution_count": 37,
   "id": "147fbb7f-0d73-45f1-ac00-c6025b949e59",
   "metadata": {},
   "outputs": [
    {
     "data": {
      "text/plain": [
       "'MY NAME IS ASIR'"
      ]
     },
     "execution_count": 37,
     "metadata": {},
     "output_type": "execute_result"
    }
   ],
   "source": [
    "s1.upper()"
   ]
  },
  {
   "cell_type": "code",
   "execution_count": 38,
   "id": "e80d692a-2c1d-43c3-8c01-b067f34327d2",
   "metadata": {},
   "outputs": [
    {
     "data": {
      "text/plain": [
       "'my name is asir'"
      ]
     },
     "execution_count": 38,
     "metadata": {},
     "output_type": "execute_result"
    }
   ],
   "source": [
    "s1"
   ]
  },
  {
   "cell_type": "code",
   "execution_count": 39,
   "id": "31fae42d-4ba1-441f-9f27-8454f70282f6",
   "metadata": {},
   "outputs": [
    {
     "data": {
      "text/plain": [
       "'My Name Is Asir'"
      ]
     },
     "execution_count": 39,
     "metadata": {},
     "output_type": "execute_result"
    }
   ],
   "source": [
    "s1.title()"
   ]
  },
  {
   "cell_type": "code",
   "execution_count": 40,
   "id": "b76824ea-24e1-4521-bad9-52c7058bf693",
   "metadata": {},
   "outputs": [
    {
     "data": {
      "text/plain": [
       "'My name is asir'"
      ]
     },
     "execution_count": 40,
     "metadata": {},
     "output_type": "execute_result"
    }
   ],
   "source": [
    "s1.capitalize()"
   ]
  },
  {
   "cell_type": "code",
   "execution_count": 41,
   "id": "1a0f6285-ac70-4d39-b608-53de5684e4e4",
   "metadata": {},
   "outputs": [
    {
     "data": {
      "text/plain": [
       "['my', 'name', 'is', 'asir']"
      ]
     },
     "execution_count": 41,
     "metadata": {},
     "output_type": "execute_result"
    }
   ],
   "source": [
    "s1.split()"
   ]
  },
  {
   "cell_type": "code",
   "execution_count": 42,
   "id": "1fefbcbb-b579-4600-bbc5-e9874550e001",
   "metadata": {},
   "outputs": [
    {
     "data": {
      "text/plain": [
       "'pwskills'"
      ]
     },
     "execution_count": 42,
     "metadata": {},
     "output_type": "execute_result"
    }
   ],
   "source": [
    "s"
   ]
  },
  {
   "cell_type": "code",
   "execution_count": 44,
   "id": "0a07a4bb-8a0f-4651-8ae5-c0832d116035",
   "metadata": {},
   "outputs": [],
   "source": [
    "s2=s+\"asir\""
   ]
  },
  {
   "cell_type": "code",
   "execution_count": 45,
   "id": "5939f302-674c-44ed-a2ba-fd6c2818e2e8",
   "metadata": {},
   "outputs": [
    {
     "data": {
      "text/plain": [
       "'pwskillsasir'"
      ]
     },
     "execution_count": 45,
     "metadata": {},
     "output_type": "execute_result"
    }
   ],
   "source": [
    "s2"
   ]
  },
  {
   "cell_type": "code",
   "execution_count": 56,
   "id": "9d78ac50-f723-4f5a-884d-4d546e8dbfc0",
   "metadata": {},
   "outputs": [],
   "source": [
    "#i am a boy\n",
    "#i have learnt paython"
   ]
  },
  {
   "cell_type": "code",
   "execution_count": 6,
   "id": "bbc8d2dd-4517-4cfc-8897-9f9023b05076",
   "metadata": {},
   "outputs": [],
   "source": [
    "l=[1,267,True,False,300,\"asir\"]"
   ]
  },
  {
   "cell_type": "code",
   "execution_count": 7,
   "id": "ce482aab-f629-4d4f-9e40-9f6f0e3ec620",
   "metadata": {},
   "outputs": [
    {
     "data": {
      "text/plain": [
       "list"
      ]
     },
     "execution_count": 7,
     "metadata": {},
     "output_type": "execute_result"
    }
   ],
   "source": [
    "type(l)"
   ]
  },
  {
   "cell_type": "code",
   "execution_count": 8,
   "id": "0003c7ab-68b7-49eb-bce7-bffa1a481f9e",
   "metadata": {},
   "outputs": [
    {
     "data": {
      "text/plain": [
       "1"
      ]
     },
     "execution_count": 8,
     "metadata": {},
     "output_type": "execute_result"
    }
   ],
   "source": [
    "l[0]"
   ]
  },
  {
   "cell_type": "code",
   "execution_count": 9,
   "id": "7efdc08a-200e-4af8-b0cf-6529086e9d87",
   "metadata": {},
   "outputs": [
    {
     "data": {
      "text/plain": [
       "300"
      ]
     },
     "execution_count": 9,
     "metadata": {},
     "output_type": "execute_result"
    }
   ],
   "source": [
    "l[4]"
   ]
  },
  {
   "cell_type": "code",
   "execution_count": 12,
   "id": "8bb7d03b-6645-4948-a230-eff5a3b18175",
   "metadata": {},
   "outputs": [
    {
     "ename": "IndexError",
     "evalue": "list index out of range",
     "output_type": "error",
     "traceback": [
      "\u001b[0;31m---------------------------------------------------------------------------\u001b[0m",
      "\u001b[0;31mIndexError\u001b[0m                                Traceback (most recent call last)",
      "Cell \u001b[0;32mIn[12], line 1\u001b[0m\n\u001b[0;32m----> 1\u001b[0m \u001b[43ml\u001b[49m\u001b[43m[\u001b[49m\u001b[38;5;241;43m90\u001b[39;49m\u001b[43m]\u001b[49m\n",
      "\u001b[0;31mIndexError\u001b[0m: list index out of range"
     ]
    }
   ],
   "source": [
    "l[90]"
   ]
  },
  {
   "cell_type": "code",
   "execution_count": 13,
   "id": "5386cfe2-10da-4f9e-9382-39e7bc136eb5",
   "metadata": {},
   "outputs": [
    {
     "data": {
      "text/plain": [
       "'asir'"
      ]
     },
     "execution_count": 13,
     "metadata": {},
     "output_type": "execute_result"
    }
   ],
   "source": [
    "l[5]"
   ]
  },
  {
   "cell_type": "code",
   "execution_count": 14,
   "id": "6711b9d5-627e-4647-8cb5-f1a15f5a1ae9",
   "metadata": {},
   "outputs": [
    {
     "data": {
      "text/plain": [
       "[1, 267, True]"
      ]
     },
     "execution_count": 14,
     "metadata": {},
     "output_type": "execute_result"
    }
   ],
   "source": [
    "l[0:3]"
   ]
  },
  {
   "cell_type": "code",
   "execution_count": 16,
   "id": "a3e0e819-f90f-462c-b6ea-c90af8493a9b",
   "metadata": {},
   "outputs": [
    {
     "data": {
      "text/plain": [
       "'asir'"
      ]
     },
     "execution_count": 16,
     "metadata": {},
     "output_type": "execute_result"
    }
   ],
   "source": [
    "l[-1]"
   ]
  },
  {
   "cell_type": "code",
   "execution_count": 17,
   "id": "fa4d13cf-35e0-4f96-ab13-516cddf69beb",
   "metadata": {},
   "outputs": [
    {
     "data": {
      "text/plain": [
       "['asir', 300, False, True, 267, 1]"
      ]
     },
     "execution_count": 17,
     "metadata": {},
     "output_type": "execute_result"
    }
   ],
   "source": [
    "l[::-1]"
   ]
  },
  {
   "cell_type": "code",
   "execution_count": 19,
   "id": "acade718-f5b0-4e08-8856-ce060a5d177a",
   "metadata": {},
   "outputs": [],
   "source": [
    "l2=l[::2]"
   ]
  },
  {
   "cell_type": "code",
   "execution_count": 20,
   "id": "5c43c6dc-6fc7-451b-8aab-26afb52f3e4e",
   "metadata": {},
   "outputs": [
    {
     "data": {
      "text/plain": [
       "[1, True, 300]"
      ]
     },
     "execution_count": 20,
     "metadata": {},
     "output_type": "execute_result"
    }
   ],
   "source": [
    "l2"
   ]
  },
  {
   "cell_type": "code",
   "execution_count": 21,
   "id": "c2d2f2d9-83dc-47f5-ab8d-a084b8aca369",
   "metadata": {},
   "outputs": [],
   "source": [
    "s='pw skills'"
   ]
  },
  {
   "cell_type": "code",
   "execution_count": 22,
   "id": "f4c5cee0-0bdc-4d5b-a8ec-cc5c643ce388",
   "metadata": {},
   "outputs": [
    {
     "ename": "TypeError",
     "evalue": "can only concatenate list (not \"str\") to list",
     "output_type": "error",
     "traceback": [
      "\u001b[0;31m---------------------------------------------------------------------------\u001b[0m",
      "\u001b[0;31mTypeError\u001b[0m                                 Traceback (most recent call last)",
      "Cell \u001b[0;32mIn[22], line 1\u001b[0m\n\u001b[0;32m----> 1\u001b[0m \u001b[43ml\u001b[49m\u001b[38;5;241;43m+\u001b[39;49m\u001b[43ms\u001b[49m\n",
      "\u001b[0;31mTypeError\u001b[0m: can only concatenate list (not \"str\") to list"
     ]
    }
   ],
   "source": [
    "l+s"
   ]
  },
  {
   "cell_type": "code",
   "execution_count": 23,
   "id": "c0b08225-189b-4179-a64d-4a1a3932f474",
   "metadata": {},
   "outputs": [
    {
     "data": {
      "text/plain": [
       "['p', 'w', ' ', 's', 'k', 'i', 'l', 'l', 's']"
      ]
     },
     "execution_count": 23,
     "metadata": {},
     "output_type": "execute_result"
    }
   ],
   "source": [
    "list(s)"
   ]
  },
  {
   "cell_type": "code",
   "execution_count": 24,
   "id": "8c8e6c45-6377-4e56-ab5d-5ec517df4dbf",
   "metadata": {},
   "outputs": [
    {
     "data": {
      "text/plain": [
       "['p', 'w', ' ', 's', 'k', 'i', 'l', 'l', 's', 1, 267, True, False, 300, 'asir']"
      ]
     },
     "execution_count": 24,
     "metadata": {},
     "output_type": "execute_result"
    }
   ],
   "source": [
    "list(s)+l"
   ]
  },
  {
   "cell_type": "code",
   "execution_count": 26,
   "id": "ea803cea-cd5d-45fb-bd77-57f694f9f4ee",
   "metadata": {},
   "outputs": [
    {
     "data": {
      "text/plain": [
       "'asir'"
      ]
     },
     "execution_count": 26,
     "metadata": {},
     "output_type": "execute_result"
    }
   ],
   "source": [
    "l[5]"
   ]
  },
  {
   "cell_type": "code",
   "execution_count": 27,
   "id": "bfd3c81c-d12a-4483-b5af-af94c7242f62",
   "metadata": {},
   "outputs": [
    {
     "data": {
      "text/plain": [
       "'as'"
      ]
     },
     "execution_count": 27,
     "metadata": {},
     "output_type": "execute_result"
    }
   ],
   "source": [
    "l[5][0:2]"
   ]
  },
  {
   "cell_type": "code",
   "execution_count": 28,
   "id": "10fe0ecf-3b80-42fb-9c47-43751adf88ec",
   "metadata": {},
   "outputs": [
    {
     "data": {
      "text/plain": [
       "False"
      ]
     },
     "execution_count": 28,
     "metadata": {},
     "output_type": "execute_result"
    }
   ],
   "source": [
    "l[3]"
   ]
  },
  {
   "cell_type": "code",
   "execution_count": 29,
   "id": "2644b882-2939-4502-9ab7-c16065f3938f",
   "metadata": {},
   "outputs": [
    {
     "ename": "TypeError",
     "evalue": "can only concatenate list (not \"int\") to list",
     "output_type": "error",
     "traceback": [
      "\u001b[0;31m---------------------------------------------------------------------------\u001b[0m",
      "\u001b[0;31mTypeError\u001b[0m                                 Traceback (most recent call last)",
      "Cell \u001b[0;32mIn[29], line 1\u001b[0m\n\u001b[0;32m----> 1\u001b[0m \u001b[43ml\u001b[49m\u001b[38;5;241;43m+\u001b[39;49m\u001b[38;5;241;43m5\u001b[39;49m\n",
      "\u001b[0;31mTypeError\u001b[0m: can only concatenate list (not \"int\") to list"
     ]
    }
   ],
   "source": [
    "l+5"
   ]
  },
  {
   "cell_type": "code",
   "execution_count": 30,
   "id": "45508445-aa5b-4f18-b895-db9a5385e514",
   "metadata": {},
   "outputs": [
    {
     "ename": "TypeError",
     "evalue": "'int' object is not iterable",
     "output_type": "error",
     "traceback": [
      "\u001b[0;31m---------------------------------------------------------------------------\u001b[0m",
      "\u001b[0;31mTypeError\u001b[0m                                 Traceback (most recent call last)",
      "Cell \u001b[0;32mIn[30], line 1\u001b[0m\n\u001b[0;32m----> 1\u001b[0m l\u001b[38;5;241m+\u001b[39m\u001b[38;5;28;43mlist\u001b[39;49m\u001b[43m(\u001b[49m\u001b[38;5;241;43m5\u001b[39;49m\u001b[43m)\u001b[49m\n",
      "\u001b[0;31mTypeError\u001b[0m: 'int' object is not iterable"
     ]
    }
   ],
   "source": [
    "l+list(5)"
   ]
  },
  {
   "cell_type": "code",
   "execution_count": 31,
   "id": "62e91319-2c29-4015-953a-52be9cc39ad4",
   "metadata": {},
   "outputs": [],
   "source": [
    "l1=[5,6]"
   ]
  },
  {
   "cell_type": "code",
   "execution_count": 32,
   "id": "d55e5105-178f-47a3-88ea-c4a0bb43fc6e",
   "metadata": {},
   "outputs": [
    {
     "data": {
      "text/plain": [
       "[1, 267, True, False, 300, 'asir', 5, 6]"
      ]
     },
     "execution_count": 32,
     "metadata": {},
     "output_type": "execute_result"
    }
   ],
   "source": [
    "l+l1"
   ]
  },
  {
   "cell_type": "code",
   "execution_count": 34,
   "id": "f4899511-c862-4be2-9307-7f8d7fd0334f",
   "metadata": {},
   "outputs": [],
   "source": [
    "l2=l1*4"
   ]
  },
  {
   "cell_type": "code",
   "execution_count": 35,
   "id": "1aa0f2a9-58b2-4f86-92c9-2fd5a6a53cc2",
   "metadata": {},
   "outputs": [
    {
     "data": {
      "text/plain": [
       "[5, 6, 5, 6, 5, 6, 5, 6]"
      ]
     },
     "execution_count": 35,
     "metadata": {},
     "output_type": "execute_result"
    }
   ],
   "source": [
    "l2"
   ]
  },
  {
   "cell_type": "code",
   "execution_count": 36,
   "id": "70dd7337-09c9-4cf5-9c33-6405b1335b25",
   "metadata": {},
   "outputs": [
    {
     "data": {
      "text/plain": [
       "8"
      ]
     },
     "execution_count": 36,
     "metadata": {},
     "output_type": "execute_result"
    }
   ],
   "source": [
    "len(l2)"
   ]
  },
  {
   "cell_type": "code",
   "execution_count": 39,
   "id": "9836a4d3-7bce-4a7d-b47c-fdde1f26d069",
   "metadata": {},
   "outputs": [],
   "source": [
    "l.append(6)"
   ]
  },
  {
   "cell_type": "code",
   "execution_count": 40,
   "id": "10c7b0af-7777-465b-8c39-a54d5df74362",
   "metadata": {},
   "outputs": [
    {
     "data": {
      "text/plain": [
       "[1, 267, True, False, 300, 'asir', 6]"
      ]
     },
     "execution_count": 40,
     "metadata": {},
     "output_type": "execute_result"
    }
   ],
   "source": [
    "l"
   ]
  },
  {
   "cell_type": "code",
   "execution_count": 41,
   "id": "1d5deffa-1df7-43dc-b54b-71e0e2c2f545",
   "metadata": {},
   "outputs": [],
   "source": [
    "l.append(s)"
   ]
  },
  {
   "cell_type": "code",
   "execution_count": 42,
   "id": "86f3f033-caff-4939-a623-055d70a08951",
   "metadata": {},
   "outputs": [
    {
     "data": {
      "text/plain": [
       "[1, 267, True, False, 300, 'asir', 6, 'pw skills']"
      ]
     },
     "execution_count": 42,
     "metadata": {},
     "output_type": "execute_result"
    }
   ],
   "source": [
    "l"
   ]
  },
  {
   "cell_type": "code",
   "execution_count": 43,
   "id": "a9c8dbec-82e3-426d-b886-c0c3e84d9a94",
   "metadata": {},
   "outputs": [],
   "source": [
    "l.append(l2)"
   ]
  },
  {
   "cell_type": "code",
   "execution_count": 44,
   "id": "b0cc8319-0eb8-4a9c-96ae-746783fe0516",
   "metadata": {},
   "outputs": [
    {
     "data": {
      "text/plain": [
       "[1, 267, True, False, 300, 'asir', 6, 'pw skills', [5, 6, 5, 6, 5, 6, 5, 6]]"
      ]
     },
     "execution_count": 44,
     "metadata": {},
     "output_type": "execute_result"
    }
   ],
   "source": [
    "l"
   ]
  },
  {
   "cell_type": "code",
   "execution_count": 45,
   "id": "41b7db85-ccf4-458c-ae30-c7452450842a",
   "metadata": {},
   "outputs": [
    {
     "data": {
      "text/plain": [
       "6"
      ]
     },
     "execution_count": 45,
     "metadata": {},
     "output_type": "execute_result"
    }
   ],
   "source": [
    "l[-1][1]"
   ]
  },
  {
   "cell_type": "code",
   "execution_count": 46,
   "id": "bc364231-2b5f-49a5-af6f-a37cc23a149b",
   "metadata": {},
   "outputs": [
    {
     "data": {
      "text/plain": [
       "[1, 267, True, False, 300, 'asir', 6, 'pw skills', [5, 6, 5, 6, 5, 6, 5, 6]]"
      ]
     },
     "execution_count": 46,
     "metadata": {},
     "output_type": "execute_result"
    }
   ],
   "source": [
    "l"
   ]
  },
  {
   "cell_type": "code",
   "execution_count": 47,
   "id": "4c3c961f-d2a2-4977-8cbe-2e6482d3da5a",
   "metadata": {},
   "outputs": [
    {
     "ename": "TypeError",
     "evalue": "'int' object is not iterable",
     "output_type": "error",
     "traceback": [
      "\u001b[0;31m---------------------------------------------------------------------------\u001b[0m",
      "\u001b[0;31mTypeError\u001b[0m                                 Traceback (most recent call last)",
      "Cell \u001b[0;32mIn[47], line 1\u001b[0m\n\u001b[0;32m----> 1\u001b[0m \u001b[43ml\u001b[49m\u001b[38;5;241;43m.\u001b[39;49m\u001b[43mextend\u001b[49m\u001b[43m(\u001b[49m\u001b[38;5;241;43m4\u001b[39;49m\u001b[43m)\u001b[49m\n",
      "\u001b[0;31mTypeError\u001b[0m: 'int' object is not iterable"
     ]
    }
   ],
   "source": [
    "l.extend(4)"
   ]
  },
  {
   "cell_type": "code",
   "execution_count": 49,
   "id": "fbaaa191-f577-4717-a949-b7e3a385cb09",
   "metadata": {},
   "outputs": [],
   "source": [
    "l.extend('asir')"
   ]
  },
  {
   "cell_type": "code",
   "execution_count": 50,
   "id": "f8939f44-717c-4dc6-8d99-d7b01aa1a93c",
   "metadata": {},
   "outputs": [
    {
     "data": {
      "text/plain": [
       "[1,\n",
       " 267,\n",
       " True,\n",
       " False,\n",
       " 300,\n",
       " 'asir',\n",
       " 6,\n",
       " 'pw skills',\n",
       " [5, 6, 5, 6, 5, 6, 5, 6],\n",
       " 'a',\n",
       " 's',\n",
       " 'i',\n",
       " 'r']"
      ]
     },
     "execution_count": 50,
     "metadata": {},
     "output_type": "execute_result"
    }
   ],
   "source": [
    "l"
   ]
  },
  {
   "cell_type": "code",
   "execution_count": 51,
   "id": "0736a4c9-27c1-4448-b48f-6eeb5ebe3545",
   "metadata": {},
   "outputs": [],
   "source": [
    "l.extend([5,6,5,6,5,6,5,6])"
   ]
  },
  {
   "cell_type": "code",
   "execution_count": 52,
   "id": "7ae8986c-e751-4b65-a27c-c9aa506f7729",
   "metadata": {},
   "outputs": [
    {
     "data": {
      "text/plain": [
       "[1,\n",
       " 267,\n",
       " True,\n",
       " False,\n",
       " 300,\n",
       " 'asir',\n",
       " 6,\n",
       " 'pw skills',\n",
       " [5, 6, 5, 6, 5, 6, 5, 6],\n",
       " 'a',\n",
       " 's',\n",
       " 'i',\n",
       " 'r',\n",
       " 5,\n",
       " 6,\n",
       " 5,\n",
       " 6,\n",
       " 5,\n",
       " 6,\n",
       " 5,\n",
       " 6]"
      ]
     },
     "execution_count": 52,
     "metadata": {},
     "output_type": "execute_result"
    }
   ],
   "source": [
    "l"
   ]
  },
  {
   "cell_type": "code",
   "execution_count": 53,
   "id": "0404eaf0-84d9-4583-b7e0-3a50d18a5ad0",
   "metadata": {},
   "outputs": [
    {
     "data": {
      "text/plain": [
       "[5, 6]"
      ]
     },
     "execution_count": 53,
     "metadata": {},
     "output_type": "execute_result"
    }
   ],
   "source": [
    "l1"
   ]
  },
  {
   "cell_type": "code",
   "execution_count": 54,
   "id": "977f27d0-b842-499a-8c42-38ca6d3d2ff5",
   "metadata": {},
   "outputs": [],
   "source": [
    "l1.insert(1,\"asir\")"
   ]
  },
  {
   "cell_type": "code",
   "execution_count": 55,
   "id": "cf6ae226-9c8b-48ec-a510-c044f15b85c6",
   "metadata": {},
   "outputs": [
    {
     "data": {
      "text/plain": [
       "[5, 'asir', 6]"
      ]
     },
     "execution_count": 55,
     "metadata": {},
     "output_type": "execute_result"
    }
   ],
   "source": [
    "l1"
   ]
  },
  {
   "cell_type": "code",
   "execution_count": 56,
   "id": "b35570c0-9941-4ef5-b699-204582b05e2d",
   "metadata": {},
   "outputs": [],
   "source": [
    "l1.insert(2,[12,23])"
   ]
  },
  {
   "cell_type": "code",
   "execution_count": 58,
   "id": "c94b41bb-24ba-4878-a405-f3e28f106b1c",
   "metadata": {},
   "outputs": [
    {
     "data": {
      "text/plain": [
       "[5, 'asir', [12, 23], 6]"
      ]
     },
     "execution_count": 58,
     "metadata": {},
     "output_type": "execute_result"
    }
   ],
   "source": [
    "l1"
   ]
  },
  {
   "cell_type": "code",
   "execution_count": 59,
   "id": "81ebfe10-5233-4024-8c06-e5ffdce6bfee",
   "metadata": {},
   "outputs": [],
   "source": [
    "l1.insert(-1,46)"
   ]
  },
  {
   "cell_type": "code",
   "execution_count": 60,
   "id": "dc8562a9-7148-4dee-901c-272c16382051",
   "metadata": {},
   "outputs": [
    {
     "data": {
      "text/plain": [
       "[5, 'asir', [12, 23], 46, 6]"
      ]
     },
     "execution_count": 60,
     "metadata": {},
     "output_type": "execute_result"
    }
   ],
   "source": [
    "l1"
   ]
  },
  {
   "cell_type": "code",
   "execution_count": 61,
   "id": "5c47c057-4b21-4a29-bbe5-ab6dcaceee9c",
   "metadata": {},
   "outputs": [
    {
     "data": {
      "text/plain": [
       "6"
      ]
     },
     "execution_count": 61,
     "metadata": {},
     "output_type": "execute_result"
    }
   ],
   "source": [
    "l1.pop()"
   ]
  },
  {
   "cell_type": "code",
   "execution_count": 62,
   "id": "0d487da4-e7cd-4591-a73d-ae160b7a7a94",
   "metadata": {},
   "outputs": [
    {
     "data": {
      "text/plain": [
       "[5, 'asir', [12, 23], 46]"
      ]
     },
     "execution_count": 62,
     "metadata": {},
     "output_type": "execute_result"
    }
   ],
   "source": [
    "l1"
   ]
  },
  {
   "cell_type": "code",
   "execution_count": 63,
   "id": "2df84d0e-5599-44a7-90ea-56b279c55d0a",
   "metadata": {},
   "outputs": [
    {
     "data": {
      "text/plain": [
       "[12, 23]"
      ]
     },
     "execution_count": 63,
     "metadata": {},
     "output_type": "execute_result"
    }
   ],
   "source": [
    "l1.pop(2)"
   ]
  },
  {
   "cell_type": "code",
   "execution_count": 64,
   "id": "fee7f3a6-583b-41fe-9f49-af9d9ba31766",
   "metadata": {},
   "outputs": [
    {
     "data": {
      "text/plain": [
       "[5, 'asir', 46]"
      ]
     },
     "execution_count": 64,
     "metadata": {},
     "output_type": "execute_result"
    }
   ],
   "source": [
    "l1"
   ]
  },
  {
   "cell_type": "code",
   "execution_count": 65,
   "id": "e8d6a0eb-ad99-4583-99c7-c5674fc61905",
   "metadata": {},
   "outputs": [
    {
     "data": {
      "text/plain": [
       "[5, 'asir', 46]"
      ]
     },
     "execution_count": 65,
     "metadata": {},
     "output_type": "execute_result"
    }
   ],
   "source": [
    "l1"
   ]
  },
  {
   "cell_type": "code",
   "execution_count": 66,
   "id": "55c74698-18e8-4ce3-a2d8-d529d34ce3e7",
   "metadata": {},
   "outputs": [],
   "source": [
    "l1.remove(46)"
   ]
  },
  {
   "cell_type": "code",
   "execution_count": 67,
   "id": "809daeea-7448-4950-85f6-f2b79dcd56fb",
   "metadata": {},
   "outputs": [
    {
     "data": {
      "text/plain": [
       "[5, 'asir']"
      ]
     },
     "execution_count": 67,
     "metadata": {},
     "output_type": "execute_result"
    }
   ],
   "source": [
    "l1"
   ]
  },
  {
   "cell_type": "code",
   "execution_count": 68,
   "id": "793bfd6e-c90d-4716-87fc-c65373dc3c44",
   "metadata": {},
   "outputs": [
    {
     "ename": "ValueError",
     "evalue": "list.remove(x): x not in list",
     "output_type": "error",
     "traceback": [
      "\u001b[0;31m---------------------------------------------------------------------------\u001b[0m",
      "\u001b[0;31mValueError\u001b[0m                                Traceback (most recent call last)",
      "Cell \u001b[0;32mIn[68], line 1\u001b[0m\n\u001b[0;32m----> 1\u001b[0m \u001b[43ml1\u001b[49m\u001b[38;5;241;43m.\u001b[39;49m\u001b[43mremove\u001b[49m\u001b[43m(\u001b[49m\u001b[38;5;241;43m123\u001b[39;49m\u001b[43m)\u001b[49m\n",
      "\u001b[0;31mValueError\u001b[0m: list.remove(x): x not in list"
     ]
    }
   ],
   "source": [
    "l1.remove(123)"
   ]
  },
  {
   "cell_type": "code",
   "execution_count": 69,
   "id": "fa2bda39-c42b-4768-8ef0-3ee71a307364",
   "metadata": {},
   "outputs": [],
   "source": [
    "s=[1,[1,2],3]"
   ]
  },
  {
   "cell_type": "code",
   "execution_count": 70,
   "id": "eb7f1c2c-b0ee-4c08-af0c-c9793a263227",
   "metadata": {},
   "outputs": [
    {
     "data": {
      "text/plain": [
       "[1, 2]"
      ]
     },
     "execution_count": 70,
     "metadata": {},
     "output_type": "execute_result"
    }
   ],
   "source": [
    "s[1]"
   ]
  },
  {
   "cell_type": "code",
   "execution_count": 71,
   "id": "f83b565e-2458-411e-b2de-a198cb5af80f",
   "metadata": {},
   "outputs": [],
   "source": [
    "s[1].remove(2)"
   ]
  },
  {
   "cell_type": "code",
   "execution_count": 72,
   "id": "1b63b7ef-c4bc-41a1-91f5-395fbf46d6e8",
   "metadata": {},
   "outputs": [
    {
     "data": {
      "text/plain": [
       "[1, [1], 3]"
      ]
     },
     "execution_count": 72,
     "metadata": {},
     "output_type": "execute_result"
    }
   ],
   "source": [
    "s"
   ]
  },
  {
   "cell_type": "code",
   "execution_count": 73,
   "id": "6aa50cf9-cf5f-4452-96dc-98880b3de56a",
   "metadata": {},
   "outputs": [
    {
     "ename": "TypeError",
     "evalue": "list.remove() takes exactly one argument (0 given)",
     "output_type": "error",
     "traceback": [
      "\u001b[0;31m---------------------------------------------------------------------------\u001b[0m",
      "\u001b[0;31mTypeError\u001b[0m                                 Traceback (most recent call last)",
      "Cell \u001b[0;32mIn[73], line 1\u001b[0m\n\u001b[0;32m----> 1\u001b[0m \u001b[43ms\u001b[49m\u001b[38;5;241;43m.\u001b[39;49m\u001b[43mremove\u001b[49m\u001b[43m(\u001b[49m\u001b[43m)\u001b[49m\n",
      "\u001b[0;31mTypeError\u001b[0m: list.remove() takes exactly one argument (0 given)"
     ]
    }
   ],
   "source": [
    "s.remove()"
   ]
  },
  {
   "cell_type": "code",
   "execution_count": 74,
   "id": "dbbd6cf9-cbbe-4b1b-bdc9-38988cb42e1c",
   "metadata": {},
   "outputs": [
    {
     "data": {
      "text/plain": [
       "[1, [1], 3]"
      ]
     },
     "execution_count": 74,
     "metadata": {},
     "output_type": "execute_result"
    }
   ],
   "source": [
    "s"
   ]
  },
  {
   "cell_type": "code",
   "execution_count": 79,
   "id": "cf1b74ab-fec7-43ab-82fc-75263f10f6b6",
   "metadata": {},
   "outputs": [
    {
     "data": {
      "text/plain": [
       "[1, [1], 3]"
      ]
     },
     "execution_count": 79,
     "metadata": {},
     "output_type": "execute_result"
    }
   ],
   "source": [
    "s[::-1]\n"
   ]
  },
  {
   "cell_type": "code",
   "execution_count": 76,
   "id": "7e870552-dfa0-4665-8c60-f592938ef8b1",
   "metadata": {},
   "outputs": [],
   "source": [
    "s.reverse()"
   ]
  },
  {
   "cell_type": "code",
   "execution_count": 77,
   "id": "7af08095-32f8-4aac-9481-17799231650c",
   "metadata": {},
   "outputs": [
    {
     "data": {
      "text/plain": [
       "[3, [1], 1]"
      ]
     },
     "execution_count": 77,
     "metadata": {},
     "output_type": "execute_result"
    }
   ],
   "source": [
    "s"
   ]
  },
  {
   "cell_type": "code",
   "execution_count": 80,
   "id": "1ab0e158-0439-4680-aaf5-5c792b998c9b",
   "metadata": {},
   "outputs": [
    {
     "data": {
      "text/plain": [
       "[3, [1], 1]"
      ]
     },
     "execution_count": 80,
     "metadata": {},
     "output_type": "execute_result"
    }
   ],
   "source": [
    "s"
   ]
  },
  {
   "cell_type": "code",
   "execution_count": 81,
   "id": "e430e995-c233-4ded-a9ea-f262d3b1e5a4",
   "metadata": {},
   "outputs": [
    {
     "ename": "TypeError",
     "evalue": "'<' not supported between instances of 'list' and 'int'",
     "output_type": "error",
     "traceback": [
      "\u001b[0;31m---------------------------------------------------------------------------\u001b[0m",
      "\u001b[0;31mTypeError\u001b[0m                                 Traceback (most recent call last)",
      "Cell \u001b[0;32mIn[81], line 1\u001b[0m\n\u001b[0;32m----> 1\u001b[0m \u001b[43ms\u001b[49m\u001b[38;5;241;43m.\u001b[39;49m\u001b[43msort\u001b[49m\u001b[43m(\u001b[49m\u001b[43m)\u001b[49m\n",
      "\u001b[0;31mTypeError\u001b[0m: '<' not supported between instances of 'list' and 'int'"
     ]
    }
   ],
   "source": [
    "s.sort()"
   ]
  },
  {
   "cell_type": "code",
   "execution_count": 87,
   "id": "17609564-fe0b-46b1-8a48-0fbba6525ef0",
   "metadata": {},
   "outputs": [],
   "source": [
    "l3=[45,46,34,1,2,3,4,5,6,7]"
   ]
  },
  {
   "cell_type": "code",
   "execution_count": 88,
   "id": "e377af78-dfcc-491f-ac73-91324024125a",
   "metadata": {},
   "outputs": [],
   "source": [
    "l3.sort()"
   ]
  },
  {
   "cell_type": "code",
   "execution_count": 89,
   "id": "ee565181-3252-451b-adf5-8ba0ddf7198b",
   "metadata": {},
   "outputs": [
    {
     "data": {
      "text/plain": [
       "[1, 2, 3, 4, 5, 6, 7, 34, 45, 46]"
      ]
     },
     "execution_count": 89,
     "metadata": {},
     "output_type": "execute_result"
    }
   ],
   "source": [
    "l3"
   ]
  },
  {
   "cell_type": "code",
   "execution_count": 90,
   "id": "da4cfe60-c993-462f-bc59-25ee9a7d4fc2",
   "metadata": {},
   "outputs": [
    {
     "data": {
      "text/plain": [
       "[1, 2, 3, 4, 5, 6, 7, 34, 45, 46]"
      ]
     },
     "execution_count": 90,
     "metadata": {},
     "output_type": "execute_result"
    }
   ],
   "source": [
    "l3"
   ]
  },
  {
   "cell_type": "code",
   "execution_count": 95,
   "id": "f5e9b9eb-ca42-4d90-9232-d22864dfdc9a",
   "metadata": {},
   "outputs": [],
   "source": [
    "l4=['asir','data','h','hdhd']"
   ]
  },
  {
   "cell_type": "code",
   "execution_count": 96,
   "id": "ce3c0a1b-f04c-493a-af89-79bb046cf60e",
   "metadata": {},
   "outputs": [],
   "source": [
    "l4.sort(reverse=True)"
   ]
  },
  {
   "cell_type": "code",
   "execution_count": 97,
   "id": "33ae2efd-fb8b-4531-b0cb-200fc0871c97",
   "metadata": {},
   "outputs": [
    {
     "data": {
      "text/plain": [
       "['hdhd', 'h', 'data', 'asir']"
      ]
     },
     "execution_count": 97,
     "metadata": {},
     "output_type": "execute_result"
    }
   ],
   "source": [
    "l4"
   ]
  },
  {
   "cell_type": "code",
   "execution_count": 98,
   "id": "842f6597-af97-4b1a-aec5-a45a1906c8f9",
   "metadata": {},
   "outputs": [
    {
     "data": {
      "text/plain": [
       "1"
      ]
     },
     "execution_count": 98,
     "metadata": {},
     "output_type": "execute_result"
    }
   ],
   "source": [
    "l4.count('data')"
   ]
  },
  {
   "cell_type": "code",
   "execution_count": 99,
   "id": "5ec9f955-2b52-4c12-8367-414365cd8c0a",
   "metadata": {},
   "outputs": [],
   "source": [
    "s=\"data science\""
   ]
  },
  {
   "cell_type": "code",
   "execution_count": 100,
   "id": "1109ca85-e79a-4a49-a167-cfdc4ae1b806",
   "metadata": {},
   "outputs": [],
   "source": [
    "l5=[3,4,5]"
   ]
  },
  {
   "cell_type": "code",
   "execution_count": 101,
   "id": "98c6573d-32c8-4388-bae3-6ba20a55611b",
   "metadata": {},
   "outputs": [
    {
     "ename": "TypeError",
     "evalue": "'str' object does not support item assignment",
     "output_type": "error",
     "traceback": [
      "\u001b[0;31m---------------------------------------------------------------------------\u001b[0m",
      "\u001b[0;31mTypeError\u001b[0m                                 Traceback (most recent call last)",
      "Cell \u001b[0;32mIn[101], line 1\u001b[0m\n\u001b[0;32m----> 1\u001b[0m \u001b[43ms\u001b[49m\u001b[43m[\u001b[49m\u001b[38;5;241;43m0\u001b[39;49m\u001b[43m]\u001b[49m\u001b[38;5;241m=\u001b[39m\u001b[38;5;124m'\u001b[39m\u001b[38;5;124ma\u001b[39m\u001b[38;5;124m'\u001b[39m\n",
      "\u001b[0;31mTypeError\u001b[0m: 'str' object does not support item assignment"
     ]
    }
   ],
   "source": [
    "s[0]='a'"
   ]
  },
  {
   "cell_type": "code",
   "execution_count": 102,
   "id": "ba075197-8ab2-485d-9c5f-df45f36fdc33",
   "metadata": {},
   "outputs": [],
   "source": [
    "l5[0]=45"
   ]
  },
  {
   "cell_type": "code",
   "execution_count": 103,
   "id": "50644ea9-f8c0-4ce8-8a09-ffcb51916dd6",
   "metadata": {},
   "outputs": [
    {
     "data": {
      "text/plain": [
       "[45, 4, 5]"
      ]
     },
     "execution_count": 103,
     "metadata": {},
     "output_type": "execute_result"
    }
   ],
   "source": [
    "l5"
   ]
  },
  {
   "cell_type": "code",
   "execution_count": 104,
   "id": "5e8d46fd-3aab-4f9f-b193-fdc5494d23f6",
   "metadata": {},
   "outputs": [
    {
     "data": {
      "text/plain": [
       "'aata science'"
      ]
     },
     "execution_count": 104,
     "metadata": {},
     "output_type": "execute_result"
    }
   ],
   "source": [
    "s.replace('d','a')"
   ]
  },
  {
   "cell_type": "code",
   "execution_count": 105,
   "id": "de13d627-90ba-4dfc-90ae-0ab4ea58a369",
   "metadata": {},
   "outputs": [
    {
     "data": {
      "text/plain": [
       "'data science'"
      ]
     },
     "execution_count": 105,
     "metadata": {},
     "output_type": "execute_result"
    }
   ],
   "source": [
    "s"
   ]
  },
  {
   "cell_type": "code",
   "execution_count": 106,
   "id": "4a6fdc9a-36ad-4b3a-9030-4881530e63f8",
   "metadata": {},
   "outputs": [],
   "source": [
    "s=s.replace('d','a')"
   ]
  },
  {
   "cell_type": "code",
   "execution_count": 107,
   "id": "557d9626-1225-45f2-b226-82e4842c53cd",
   "metadata": {},
   "outputs": [
    {
     "data": {
      "text/plain": [
       "'aata science'"
      ]
     },
     "execution_count": 107,
     "metadata": {},
     "output_type": "execute_result"
    }
   ],
   "source": [
    "s"
   ]
  },
  {
   "cell_type": "code",
   "execution_count": 108,
   "id": "44c2d713-04e9-4e10-a4b0-0439af009e8e",
   "metadata": {},
   "outputs": [],
   "source": [
    "t = (2,3,4,7,'data',False,True,[12,34,67])"
   ]
  },
  {
   "cell_type": "code",
   "execution_count": 109,
   "id": "ffc35076-2ac0-42e7-b72c-2d65ae8109be",
   "metadata": {},
   "outputs": [
    {
     "data": {
      "text/plain": [
       "(2, 3, 4, 7, 'data', False, True, [12, 34, 67])"
      ]
     },
     "execution_count": 109,
     "metadata": {},
     "output_type": "execute_result"
    }
   ],
   "source": [
    "t"
   ]
  },
  {
   "cell_type": "code",
   "execution_count": 110,
   "id": "658cb079-784c-4469-85c4-6058ee4422f2",
   "metadata": {},
   "outputs": [
    {
     "data": {
      "text/plain": [
       "tuple"
      ]
     },
     "execution_count": 110,
     "metadata": {},
     "output_type": "execute_result"
    }
   ],
   "source": [
    "type(t)"
   ]
  },
  {
   "cell_type": "code",
   "execution_count": 111,
   "id": "fb497f7e-7943-4dd3-8cc9-ef1c6b62315a",
   "metadata": {},
   "outputs": [
    {
     "data": {
      "text/plain": [
       "8"
      ]
     },
     "execution_count": 111,
     "metadata": {},
     "output_type": "execute_result"
    }
   ],
   "source": [
    "len(t)"
   ]
  },
  {
   "cell_type": "code",
   "execution_count": 112,
   "id": "93dd1904-1c91-4f66-a56a-0d134d244973",
   "metadata": {},
   "outputs": [
    {
     "data": {
      "text/plain": [
       "'data'"
      ]
     },
     "execution_count": 112,
     "metadata": {},
     "output_type": "execute_result"
    }
   ],
   "source": [
    "t[4]"
   ]
  },
  {
   "cell_type": "code",
   "execution_count": 113,
   "id": "c218c247-d28a-4629-93a1-5f62a83bf855",
   "metadata": {},
   "outputs": [
    {
     "data": {
      "text/plain": [
       "([12, 34, 67], True, False, 'data', 7, 4, 3, 2)"
      ]
     },
     "execution_count": 113,
     "metadata": {},
     "output_type": "execute_result"
    }
   ],
   "source": [
    "t[::-1]"
   ]
  },
  {
   "cell_type": "code",
   "execution_count": 114,
   "id": "714a16e4-9d32-43d4-a72c-ac186030bafd",
   "metadata": {},
   "outputs": [
    {
     "data": {
      "text/plain": [
       "(2, 3, 4, 7, 'data', False, True, [12, 34, 67])"
      ]
     },
     "execution_count": 114,
     "metadata": {},
     "output_type": "execute_result"
    }
   ],
   "source": [
    "t"
   ]
  },
  {
   "cell_type": "code",
   "execution_count": 115,
   "id": "00eef303-daf0-4044-a587-e9d24713970f",
   "metadata": {},
   "outputs": [
    {
     "ename": "TypeError",
     "evalue": "'tuple' object does not support item assignment",
     "output_type": "error",
     "traceback": [
      "\u001b[0;31m---------------------------------------------------------------------------\u001b[0m",
      "\u001b[0;31mTypeError\u001b[0m                                 Traceback (most recent call last)",
      "Cell \u001b[0;32mIn[115], line 1\u001b[0m\n\u001b[0;32m----> 1\u001b[0m \u001b[43mt\u001b[49m\u001b[43m[\u001b[49m\u001b[38;5;241;43m3\u001b[39;49m\u001b[43m]\u001b[49m\u001b[38;5;241m=\u001b[39m\u001b[38;5;124m'\u001b[39m\u001b[38;5;124m68\u001b[39m\u001b[38;5;124m'\u001b[39m\n",
      "\u001b[0;31mTypeError\u001b[0m: 'tuple' object does not support item assignment"
     ]
    }
   ],
   "source": [
    "t[3]='68'"
   ]
  },
  {
   "cell_type": "code",
   "execution_count": 118,
   "id": "b0b06775-b3a8-465b-ab79-d7104bb85d01",
   "metadata": {},
   "outputs": [
    {
     "data": {
      "text/plain": [
       "(2, 'data')"
      ]
     },
     "execution_count": 118,
     "metadata": {},
     "output_type": "execute_result"
    }
   ],
   "source": [
    "t[::2]"
   ]
  },
  {
   "cell_type": "code",
   "execution_count": 120,
   "id": "54811281-2303-4180-945a-183606564782",
   "metadata": {},
   "outputs": [
    {
     "data": {
      "text/plain": [
       "(2, 4, 'data', True)"
      ]
     },
     "execution_count": 120,
     "metadata": {},
     "output_type": "execute_result"
    }
   ],
   "source": [
    "t"
   ]
  },
  {
   "cell_type": "code",
   "execution_count": 121,
   "id": "34044ae3-0e8e-46b2-824c-4bbf267c3696",
   "metadata": {},
   "outputs": [
    {
     "ename": "TypeError",
     "evalue": "tuple.count() takes exactly one argument (0 given)",
     "output_type": "error",
     "traceback": [
      "\u001b[0;31m---------------------------------------------------------------------------\u001b[0m",
      "\u001b[0;31mTypeError\u001b[0m                                 Traceback (most recent call last)",
      "Cell \u001b[0;32mIn[121], line 1\u001b[0m\n\u001b[0;32m----> 1\u001b[0m \u001b[43mt\u001b[49m\u001b[38;5;241;43m.\u001b[39;49m\u001b[43mcount\u001b[49m\u001b[43m(\u001b[49m\u001b[43m)\u001b[49m\n",
      "\u001b[0;31mTypeError\u001b[0m: tuple.count() takes exactly one argument (0 given)"
     ]
    }
   ],
   "source": [
    "t.count()"
   ]
  },
  {
   "cell_type": "code",
   "execution_count": 122,
   "id": "f956fc8e-1bcb-4e3b-a079-86943e5051a3",
   "metadata": {},
   "outputs": [
    {
     "data": {
      "text/plain": [
       "1"
      ]
     },
     "execution_count": 122,
     "metadata": {},
     "output_type": "execute_result"
    }
   ],
   "source": [
    "t.count(4)"
   ]
  },
  {
   "cell_type": "code",
   "execution_count": 123,
   "id": "c3cb94b6-b19c-4e5e-946d-9ea01805f61f",
   "metadata": {},
   "outputs": [
    {
     "data": {
      "text/plain": [
       "1"
      ]
     },
     "execution_count": 123,
     "metadata": {},
     "output_type": "execute_result"
    }
   ],
   "source": [
    "t.index(4)"
   ]
  },
  {
   "cell_type": "code",
   "execution_count": 124,
   "id": "2d4a8912-9f00-4720-88a1-ebb3a6a15717",
   "metadata": {},
   "outputs": [],
   "source": [
    "s1={}"
   ]
  },
  {
   "cell_type": "code",
   "execution_count": 125,
   "id": "25554fe3-d960-4386-a7ca-342efcc5eb20",
   "metadata": {},
   "outputs": [
    {
     "data": {
      "text/plain": [
       "dict"
      ]
     },
     "execution_count": 125,
     "metadata": {},
     "output_type": "execute_result"
    }
   ],
   "source": [
    "type(s1)"
   ]
  },
  {
   "cell_type": "code",
   "execution_count": 126,
   "id": "9973c185-56aa-4bc9-816e-177c68d2a354",
   "metadata": {},
   "outputs": [],
   "source": [
    "s2={2,4,5,6,7}"
   ]
  },
  {
   "cell_type": "code",
   "execution_count": 127,
   "id": "62673ef2-5317-4292-9fe4-773a0e5491c3",
   "metadata": {},
   "outputs": [
    {
     "data": {
      "text/plain": [
       "set"
      ]
     },
     "execution_count": 127,
     "metadata": {},
     "output_type": "execute_result"
    }
   ],
   "source": [
    "type(s2)"
   ]
  },
  {
   "cell_type": "code",
   "execution_count": 130,
   "id": "f3b46402-5da5-4321-b179-cb99bf1ccfa0",
   "metadata": {},
   "outputs": [],
   "source": [
    "s3={124,757,4747,'hggfjf',3.44,(565,8585)}"
   ]
  },
  {
   "cell_type": "code",
   "execution_count": 131,
   "id": "83e58673-d754-4a5a-a064-86c9b6b5ca71",
   "metadata": {},
   "outputs": [
    {
     "data": {
      "text/plain": [
       "{(565, 8585), 124, 3.44, 4747, 757, 'hggfjf'}"
      ]
     },
     "execution_count": 131,
     "metadata": {},
     "output_type": "execute_result"
    }
   ],
   "source": [
    "s3"
   ]
  },
  {
   "cell_type": "code",
   "execution_count": 137,
   "id": "3e7c668c-7cd9-410b-ac8b-b3b17a3c8ed7",
   "metadata": {},
   "outputs": [],
   "source": [
    "s4={22,3,4,3,77,66,55,8,2,4,3,5,7,8,7,'asir','asir','Asir'}"
   ]
  },
  {
   "cell_type": "code",
   "execution_count": 138,
   "id": "6f5f0f35-c536-42a3-a556-d539e326f4c8",
   "metadata": {},
   "outputs": [
    {
     "data": {
      "text/plain": [
       "{2, 22, 3, 4, 5, 55, 66, 7, 77, 8, 'Asir', 'asir'}"
      ]
     },
     "execution_count": 138,
     "metadata": {},
     "output_type": "execute_result"
    }
   ],
   "source": [
    "s4"
   ]
  },
  {
   "cell_type": "code",
   "execution_count": 139,
   "id": "33251e9d-537f-4522-ad41-b0fa8d73d2ed",
   "metadata": {},
   "outputs": [],
   "source": [
    "l6=[5,5,5,5,56,6,6,6,66,6,66,6,6,6,6]"
   ]
  },
  {
   "cell_type": "code",
   "execution_count": 140,
   "id": "7fe7cd14-fc09-4b4e-8a5c-754d4deaf4c4",
   "metadata": {},
   "outputs": [],
   "source": [
    "l6=set(l6)"
   ]
  },
  {
   "cell_type": "code",
   "execution_count": 141,
   "id": "fd60628f-99f2-49c3-b217-db2310400077",
   "metadata": {},
   "outputs": [
    {
     "data": {
      "text/plain": [
       "{5, 6, 56, 66}"
      ]
     },
     "execution_count": 141,
     "metadata": {},
     "output_type": "execute_result"
    }
   ],
   "source": [
    "l6"
   ]
  },
  {
   "cell_type": "code",
   "execution_count": 142,
   "id": "2d95012d-5ad5-47e4-9716-2f1ade2a086c",
   "metadata": {},
   "outputs": [],
   "source": [
    "l6.add(77)"
   ]
  },
  {
   "cell_type": "code",
   "execution_count": 143,
   "id": "84de1ea3-5b95-4a24-b811-ccd29412730d",
   "metadata": {},
   "outputs": [
    {
     "data": {
      "text/plain": [
       "{5, 6, 56, 66, 77}"
      ]
     },
     "execution_count": 143,
     "metadata": {},
     "output_type": "execute_result"
    }
   ],
   "source": [
    "l6"
   ]
  },
  {
   "cell_type": "code",
   "execution_count": 144,
   "id": "70acba09-2636-4a2f-b300-ec5078dabe06",
   "metadata": {},
   "outputs": [],
   "source": [
    "l6.remove(6)"
   ]
  },
  {
   "cell_type": "code",
   "execution_count": 145,
   "id": "d38ba485-9032-4f10-94b4-bbfc002fa277",
   "metadata": {},
   "outputs": [
    {
     "data": {
      "text/plain": [
       "{5, 56, 66, 77}"
      ]
     },
     "execution_count": 145,
     "metadata": {},
     "output_type": "execute_result"
    }
   ],
   "source": [
    "l6"
   ]
  },
  {
   "cell_type": "code",
   "execution_count": 146,
   "id": "29421017-7ced-449a-84d1-d287bc13c028",
   "metadata": {},
   "outputs": [
    {
     "data": {
      "text/plain": [
       "{5, 56, 66, 77}"
      ]
     },
     "execution_count": 146,
     "metadata": {},
     "output_type": "execute_result"
    }
   ],
   "source": [
    "l6"
   ]
  },
  {
   "cell_type": "code",
   "execution_count": 1,
   "id": "ef5ea5c9-658f-43ae-893c-1d6549f84a06",
   "metadata": {},
   "outputs": [],
   "source": [
    "num1=23"
   ]
  },
  {
   "cell_type": "code",
   "execution_count": 2,
   "id": "bb51a460-9761-4fc4-933e-b70ad5a9410e",
   "metadata": {},
   "outputs": [],
   "source": [
    "num2=44"
   ]
  },
  {
   "cell_type": "code",
   "execution_count": 3,
   "id": "0fe48895-96ea-4255-b386-723a8e6c4be3",
   "metadata": {},
   "outputs": [],
   "source": [
    "num2=2+3j"
   ]
  },
  {
   "cell_type": "code",
   "execution_count": 5,
   "id": "e076ba2f-eb37-425e-8180-fe6f1d701c4f",
   "metadata": {},
   "outputs": [],
   "source": [
    "num1=num2.imag"
   ]
  },
  {
   "cell_type": "code",
   "execution_count": 6,
   "id": "0a71bcc8-e0da-41eb-b277-dba75e98a704",
   "metadata": {},
   "outputs": [
    {
     "data": {
      "text/plain": [
       "(-1+3j)"
      ]
     },
     "execution_count": 6,
     "metadata": {},
     "output_type": "execute_result"
    }
   ],
   "source": [
    "num2-num1"
   ]
  },
  {
   "cell_type": "code",
   "execution_count": 8,
   "id": "f244b4a3-e734-4a00-a4d3-24acbbcc93f9",
   "metadata": {},
   "outputs": [
    {
     "data": {
      "text/plain": [
       "'pw1'"
      ]
     },
     "execution_count": 8,
     "metadata": {},
     "output_type": "execute_result"
    }
   ],
   "source": [
    "'pw'+str(1)"
   ]
  },
  {
   "cell_type": "code",
   "execution_count": 9,
   "id": "d783caab-4b40-4255-9d84-ee1ea519e465",
   "metadata": {},
   "outputs": [],
   "source": [
    "name='pwskills'"
   ]
  },
  {
   "cell_type": "code",
   "execution_count": 10,
   "id": "ba7f8101-27ac-4406-856f-6ffd92922d7e",
   "metadata": {},
   "outputs": [
    {
     "ename": "TypeError",
     "evalue": "'str' object does not support item assignment",
     "output_type": "error",
     "traceback": [
      "\u001b[0;31m---------------------------------------------------------------------------\u001b[0m",
      "\u001b[0;31mTypeError\u001b[0m                                 Traceback (most recent call last)",
      "Cell \u001b[0;32mIn[10], line 1\u001b[0m\n\u001b[0;32m----> 1\u001b[0m \u001b[43mname\u001b[49m\u001b[43m[\u001b[49m\u001b[38;5;241;43m0\u001b[39;49m\u001b[43m]\u001b[49m\u001b[38;5;241m=\u001b[39m\u001b[38;5;124m'\u001b[39m\u001b[38;5;124mP\u001b[39m\u001b[38;5;124m'\u001b[39m\n",
      "\u001b[0;31mTypeError\u001b[0m: 'str' object does not support item assignment"
     ]
    }
   ],
   "source": [
    "name[0]='P'"
   ]
  },
  {
   "cell_type": "code",
   "execution_count": 11,
   "id": "71aba16b-e96a-4332-9df4-8cc20168011e",
   "metadata": {},
   "outputs": [
    {
     "ename": "NameError",
     "evalue": "name 'num_100' is not defined",
     "output_type": "error",
     "traceback": [
      "\u001b[0;31m---------------------------------------------------------------------------\u001b[0m",
      "\u001b[0;31mNameError\u001b[0m                                 Traceback (most recent call last)",
      "Cell \u001b[0;32mIn[11], line 1\u001b[0m\n\u001b[0;32m----> 1\u001b[0m \u001b[43mnum_100\u001b[49m\n",
      "\u001b[0;31mNameError\u001b[0m: name 'num_100' is not defined"
     ]
    }
   ],
   "source": [
    "num_100"
   ]
  },
  {
   "cell_type": "code",
   "execution_count": 12,
   "id": "ece1525c-ac83-4bb7-9ee8-c19139c27c87",
   "metadata": {},
   "outputs": [
    {
     "ename": "NameError",
     "evalue": "name '_num' is not defined",
     "output_type": "error",
     "traceback": [
      "\u001b[0;31m---------------------------------------------------------------------------\u001b[0m",
      "\u001b[0;31mNameError\u001b[0m                                 Traceback (most recent call last)",
      "Cell \u001b[0;32mIn[12], line 1\u001b[0m\n\u001b[0;32m----> 1\u001b[0m \u001b[38;5;241m20\u001b[39m\u001b[38;5;241m%\u001b[39m\u001b[43m_num\u001b[49m\n",
      "\u001b[0;31mNameError\u001b[0m: name '_num' is not defined"
     ]
    }
   ],
   "source": [
    "20%_num"
   ]
  },
  {
   "cell_type": "code",
   "execution_count": 13,
   "id": "aa9098e5-f404-4c29-9012-e2d085d022a8",
   "metadata": {},
   "outputs": [],
   "source": [
    "s='''jdfj'''"
   ]
  },
  {
   "cell_type": "code",
   "execution_count": 14,
   "id": "56beae33-d6ed-4508-b01e-ed9665dd9405",
   "metadata": {},
   "outputs": [],
   "source": [
    "f=\"\"\"jfj\"\"\""
   ]
  },
  {
   "cell_type": "code",
   "execution_count": 15,
   "id": "389e9a15-c80a-4a0e-8f62-38c57333f4c8",
   "metadata": {},
   "outputs": [
    {
     "data": {
      "text/plain": [
       "str"
      ]
     },
     "execution_count": 15,
     "metadata": {},
     "output_type": "execute_result"
    }
   ],
   "source": [
    "type(f)"
   ]
  },
  {
   "cell_type": "code",
   "execution_count": 16,
   "id": "6ca6fc80-71bf-436c-8718-11f29e97052f",
   "metadata": {},
   "outputs": [
    {
     "data": {
      "text/plain": [
       "str"
      ]
     },
     "execution_count": 16,
     "metadata": {},
     "output_type": "execute_result"
    }
   ],
   "source": [
    "type(s)"
   ]
  },
  {
   "cell_type": "code",
   "execution_count": 17,
   "id": "d786d598-9d25-4901-a224-de17aa000466",
   "metadata": {},
   "outputs": [
    {
     "data": {
      "text/plain": [
       "True"
      ]
     },
     "execution_count": 17,
     "metadata": {},
     "output_type": "execute_result"
    }
   ],
   "source": [
    "'pwskills'.upper().lower().isalnum()"
   ]
  },
  {
   "cell_type": "code",
   "execution_count": 18,
   "id": "6480afa5-33d7-40fd-9943-46240fa7cd78",
   "metadata": {},
   "outputs": [
    {
     "ename": "ZeroDivisionError",
     "evalue": "division by zero",
     "output_type": "error",
     "traceback": [
      "\u001b[0;31m---------------------------------------------------------------------------\u001b[0m",
      "\u001b[0;31mZeroDivisionError\u001b[0m                         Traceback (most recent call last)",
      "Cell \u001b[0;32mIn[18], line 1\u001b[0m\n\u001b[0;32m----> 1\u001b[0m \u001b[38;5;241;43m1\u001b[39;49m\u001b[38;5;241;43m/\u001b[39;49m\u001b[38;5;241;43m0\u001b[39;49m\n",
      "\u001b[0;31mZeroDivisionError\u001b[0m: division by zero"
     ]
    }
   ],
   "source": [
    "1/0"
   ]
  },
  {
   "cell_type": "code",
   "execution_count": 1,
   "id": "f568ffea-a693-4917-8987-6db6b7290166",
   "metadata": {},
   "outputs": [],
   "source": [
    "d={'asir', 'math'}"
   ]
  },
  {
   "cell_type": "code",
   "execution_count": 2,
   "id": "ebba3c80-adf0-4d8b-91da-8080d9f208f1",
   "metadata": {},
   "outputs": [
    {
     "data": {
      "text/plain": [
       "set"
      ]
     },
     "execution_count": 2,
     "metadata": {},
     "output_type": "execute_result"
    }
   ],
   "source": [
    "type(d)"
   ]
  },
  {
   "cell_type": "code",
   "execution_count": 3,
   "id": "d1dc37ad-f7fa-4fe7-95fa-4d68aef6e949",
   "metadata": {},
   "outputs": [],
   "source": [
    "d1={'key' : 'value'}"
   ]
  },
  {
   "cell_type": "code",
   "execution_count": 4,
   "id": "b67e125a-b25b-4f58-92e7-06ca911a20d1",
   "metadata": {},
   "outputs": [
    {
     "data": {
      "text/plain": [
       "{'key': 'value'}"
      ]
     },
     "execution_count": 4,
     "metadata": {},
     "output_type": "execute_result"
    }
   ],
   "source": [
    "d1"
   ]
  },
  {
   "cell_type": "code",
   "execution_count": 5,
   "id": "63819ad5-6e35-49fb-ac28-0ae0690f3da3",
   "metadata": {},
   "outputs": [
    {
     "data": {
      "text/plain": [
       "dict"
      ]
     },
     "execution_count": 5,
     "metadata": {},
     "output_type": "execute_result"
    }
   ],
   "source": [
    "type(d1)"
   ]
  },
  {
   "cell_type": "code",
   "execution_count": 6,
   "id": "4905bac1-54b8-4f7e-96a8-caee369e1e16",
   "metadata": {},
   "outputs": [],
   "source": [
    "d2={'name' : 'asir' ,'email': 'asir786@yahoo.com'}"
   ]
  },
  {
   "cell_type": "code",
   "execution_count": 7,
   "id": "b847be75-9145-42a2-a178-5307d006eb42",
   "metadata": {},
   "outputs": [
    {
     "data": {
      "text/plain": [
       "{'name': 'asir', 'email': 'asir786@yahoo.com'}"
      ]
     },
     "execution_count": 7,
     "metadata": {},
     "output_type": "execute_result"
    }
   ],
   "source": [
    "d2"
   ]
  },
  {
   "cell_type": "code",
   "execution_count": 12,
   "id": "8a5cdaa3-db20-4223-9ba2-73f4e03fd778",
   "metadata": {},
   "outputs": [],
   "source": [
    "d3={234 :'asir laskar 1',True : 'laskar'}"
   ]
  },
  {
   "cell_type": "code",
   "execution_count": 13,
   "id": "b16731b6-6e33-4ddb-b514-0ee341c0d40d",
   "metadata": {},
   "outputs": [
    {
     "data": {
      "text/plain": [
       "'asir laskar 1'"
      ]
     },
     "execution_count": 13,
     "metadata": {},
     "output_type": "execute_result"
    }
   ],
   "source": [
    "d3[234]"
   ]
  },
  {
   "cell_type": "code",
   "execution_count": 14,
   "id": "03695b47-e1af-4508-8a2a-e481931b884d",
   "metadata": {},
   "outputs": [
    {
     "data": {
      "text/plain": [
       "'laskar'"
      ]
     },
     "execution_count": 14,
     "metadata": {},
     "output_type": "execute_result"
    }
   ],
   "source": [
    "d3[True]"
   ]
  },
  {
   "cell_type": "code",
   "execution_count": 15,
   "id": "e6ccd56b-9567-4b68-bacf-ea438ad737b6",
   "metadata": {},
   "outputs": [
    {
     "data": {
      "text/plain": [
       "'laskar'"
      ]
     },
     "execution_count": 15,
     "metadata": {},
     "output_type": "execute_result"
    }
   ],
   "source": [
    "d3[1]"
   ]
  },
  {
   "cell_type": "code",
   "execution_count": 16,
   "id": "7f718db7-2f4e-4621-8c8a-e64785ac5bfc",
   "metadata": {},
   "outputs": [
    {
     "ename": "KeyError",
     "evalue": "0",
     "output_type": "error",
     "traceback": [
      "\u001b[0;31m---------------------------------------------------------------------------\u001b[0m",
      "\u001b[0;31mKeyError\u001b[0m                                  Traceback (most recent call last)",
      "Cell \u001b[0;32mIn[16], line 1\u001b[0m\n\u001b[0;32m----> 1\u001b[0m \u001b[43md3\u001b[49m\u001b[43m[\u001b[49m\u001b[38;5;241;43m0\u001b[39;49m\u001b[43m]\u001b[49m\n",
      "\u001b[0;31mKeyError\u001b[0m: 0"
     ]
    }
   ],
   "source": [
    "d3[0]"
   ]
  },
  {
   "cell_type": "code",
   "execution_count": 17,
   "id": "50b9caaa-ae6d-4c7a-b2fc-04b36207dae8",
   "metadata": {},
   "outputs": [],
   "source": [
    "d4= {'ph' : 6290469931 , 100 : 'geo'}"
   ]
  },
  {
   "cell_type": "code",
   "execution_count": 18,
   "id": "ba9cc386-5930-48ab-981d-7d3e72ea6cb1",
   "metadata": {},
   "outputs": [
    {
     "data": {
      "text/plain": [
       "6290469931"
      ]
     },
     "execution_count": 18,
     "metadata": {},
     "output_type": "execute_result"
    }
   ],
   "source": [
    "d4[\"ph\"]"
   ]
  },
  {
   "cell_type": "code",
   "execution_count": 26,
   "id": "811ae31c-c8f8-4334-90e7-3180105d780d",
   "metadata": {},
   "outputs": [],
   "source": [
    "d5= {'company' : 'pwskill' , 'course' : ['data science','c++']}"
   ]
  },
  {
   "cell_type": "code",
   "execution_count": 28,
   "id": "1d3087f8-3ec4-41e2-9d17-87a1b7952f6c",
   "metadata": {},
   "outputs": [
    {
     "data": {
      "text/plain": [
       "['data science', 'c++']"
      ]
     },
     "execution_count": 28,
     "metadata": {},
     "output_type": "execute_result"
    }
   ],
   "source": [
    "d5['course']"
   ]
  },
  {
   "cell_type": "code",
   "execution_count": 36,
   "id": "2197eb2c-9b94-4731-a115-91cbc46465da",
   "metadata": {},
   "outputs": [],
   "source": [
    "d6={'number' : [ 1,2,3,4] , 'assinment' : { 'type' : ( 1,3 ,4 ),'data' : 46}}"
   ]
  },
  {
   "cell_type": "code",
   "execution_count": 37,
   "id": "85c58960-8fd2-4806-8430-53e8a2a34e5d",
   "metadata": {},
   "outputs": [
    {
     "data": {
      "text/plain": [
       "dict"
      ]
     },
     "execution_count": 37,
     "metadata": {},
     "output_type": "execute_result"
    }
   ],
   "source": [
    "type(d6)"
   ]
  },
  {
   "cell_type": "code",
   "execution_count": 38,
   "id": "aefbf7d4-200d-427c-a6f5-93cb6bac9554",
   "metadata": {},
   "outputs": [
    {
     "data": {
      "text/plain": [
       "{'number': [1, 2, 3, 4], 'assinment': {'type': (1, 3, 4), 'data': 46}}"
      ]
     },
     "execution_count": 38,
     "metadata": {},
     "output_type": "execute_result"
    }
   ],
   "source": [
    "d6"
   ]
  },
  {
   "cell_type": "code",
   "execution_count": 39,
   "id": "e64b99e6-97a9-4db2-8f17-8c06865ad1c4",
   "metadata": {},
   "outputs": [
    {
     "data": {
      "text/plain": [
       "{'type': (1, 3, 4), 'data': 46}"
      ]
     },
     "execution_count": 39,
     "metadata": {},
     "output_type": "execute_result"
    }
   ],
   "source": [
    "d6['assinment']"
   ]
  },
  {
   "cell_type": "code",
   "execution_count": 40,
   "id": "c42bf8d4-b630-45f6-895c-2321864ab672",
   "metadata": {},
   "outputs": [
    {
     "data": {
      "text/plain": [
       "46"
      ]
     },
     "execution_count": 40,
     "metadata": {},
     "output_type": "execute_result"
    }
   ],
   "source": [
    "d6['assinment']['data']"
   ]
  },
  {
   "cell_type": "code",
   "execution_count": 43,
   "id": "e500b4e8-d593-49a2-9daa-9641b2faa8ae",
   "metadata": {},
   "outputs": [],
   "source": [
    "d6['data'] = [47,78,'asir','laskar']"
   ]
  },
  {
   "cell_type": "code",
   "execution_count": 44,
   "id": "6a609d58-cf06-442d-9098-67e2e3bd9ffb",
   "metadata": {},
   "outputs": [
    {
     "data": {
      "text/plain": [
       "{'number': [1, 2, 3, 4],\n",
       " 'assinment': {'type': (1, 3, 4), 'data': 46},\n",
       " 'data': [47, 78, 'asir', 'laskar']}"
      ]
     },
     "execution_count": 44,
     "metadata": {},
     "output_type": "execute_result"
    }
   ],
   "source": [
    "d6"
   ]
  },
  {
   "cell_type": "code",
   "execution_count": 45,
   "id": "284a81b0-03d0-488c-bf01-a4c2c1fff665",
   "metadata": {},
   "outputs": [],
   "source": [
    "del d6['data']"
   ]
  },
  {
   "cell_type": "code",
   "execution_count": 46,
   "id": "0885caf4-e0c5-4a46-86a5-885ddd728769",
   "metadata": {},
   "outputs": [
    {
     "data": {
      "text/plain": [
       "{'number': [1, 2, 3, 4], 'assinment': {'type': (1, 3, 4), 'data': 46}}"
      ]
     },
     "execution_count": 46,
     "metadata": {},
     "output_type": "execute_result"
    }
   ],
   "source": [
    "d6"
   ]
  },
  {
   "cell_type": "code",
   "execution_count": 47,
   "id": "4174e9b8-f5b8-4cd9-9284-cb49e8a9af77",
   "metadata": {},
   "outputs": [
    {
     "data": {
      "text/plain": [
       "dict_keys(['number', 'assinment'])"
      ]
     },
     "execution_count": 47,
     "metadata": {},
     "output_type": "execute_result"
    }
   ],
   "source": [
    "d6.keys()"
   ]
  },
  {
   "cell_type": "code",
   "execution_count": 48,
   "id": "6316899a-80ae-4c8e-82dc-aacfeb6a8f7c",
   "metadata": {},
   "outputs": [
    {
     "data": {
      "text/plain": [
       "['number', 'assinment']"
      ]
     },
     "execution_count": 48,
     "metadata": {},
     "output_type": "execute_result"
    }
   ],
   "source": [
    "list(d6.keys())"
   ]
  },
  {
   "cell_type": "code",
   "execution_count": 49,
   "id": "83ede7f7-a04d-4050-9e48-716742185a32",
   "metadata": {},
   "outputs": [
    {
     "data": {
      "text/plain": [
       "dict_items([('number', [1, 2, 3, 4]), ('assinment', {'type': (1, 3, 4), 'data': 46})])"
      ]
     },
     "execution_count": 49,
     "metadata": {},
     "output_type": "execute_result"
    }
   ],
   "source": [
    "d6.items()"
   ]
  },
  {
   "cell_type": "code",
   "execution_count": 50,
   "id": "358e5363-dbed-48f1-a701-d9b29dc1c216",
   "metadata": {},
   "outputs": [
    {
     "data": {
      "text/plain": [
       "[('number', [1, 2, 3, 4]), ('assinment', {'type': (1, 3, 4), 'data': 46})]"
      ]
     },
     "execution_count": 50,
     "metadata": {},
     "output_type": "execute_result"
    }
   ],
   "source": [
    "list(d6.items())"
   ]
  },
  {
   "cell_type": "code",
   "execution_count": 51,
   "id": "95b74878-e440-48f1-9e73-89d9b991d4db",
   "metadata": {},
   "outputs": [
    {
     "data": {
      "text/plain": [
       "{'number': [1, 2, 3, 4], 'assinment': {'type': (1, 3, 4), 'data': 46}}"
      ]
     },
     "execution_count": 51,
     "metadata": {},
     "output_type": "execute_result"
    }
   ],
   "source": [
    "d6"
   ]
  },
  {
   "cell_type": "code",
   "execution_count": 63,
   "id": "087934ba-6517-4e5d-aa55-fcc1ec6ce363",
   "metadata": {},
   "outputs": [
    {
     "ename": "KeyError",
     "evalue": "'assinment'",
     "output_type": "error",
     "traceback": [
      "\u001b[0;31m---------------------------------------------------------------------------\u001b[0m",
      "\u001b[0;31mKeyError\u001b[0m                                  Traceback (most recent call last)",
      "Cell \u001b[0;32mIn[63], line 1\u001b[0m\n\u001b[0;32m----> 1\u001b[0m \u001b[43md6\u001b[49m\u001b[38;5;241;43m.\u001b[39;49m\u001b[43mpop\u001b[49m\u001b[43m(\u001b[49m\u001b[38;5;124;43m'\u001b[39;49m\u001b[38;5;124;43massinment\u001b[39;49m\u001b[38;5;124;43m'\u001b[39;49m\u001b[43m)\u001b[49m\n",
      "\u001b[0;31mKeyError\u001b[0m: 'assinment'"
     ]
    }
   ],
   "source": [
    "d6.pop('assinment')"
   ]
  },
  {
   "cell_type": "code",
   "execution_count": 65,
   "id": "f8574a48-edd3-4543-bfee-5f95b422c3fc",
   "metadata": {},
   "outputs": [
    {
     "data": {
      "text/plain": [
       "{'number': [1, 2, 3, 4]}"
      ]
     },
     "execution_count": 65,
     "metadata": {},
     "output_type": "execute_result"
    }
   ],
   "source": [
    "d6"
   ]
  },
  {
   "cell_type": "code",
   "execution_count": 66,
   "id": "4c44c592-e056-4c38-9923-aeb32d605eb2",
   "metadata": {},
   "outputs": [],
   "source": [
    "d6[ 'data'] = [ 43,48,'asir laskar']"
   ]
  },
  {
   "cell_type": "code",
   "execution_count": 67,
   "id": "8131dffc-96c5-417e-b18f-ca4943f64af0",
   "metadata": {},
   "outputs": [
    {
     "data": {
      "text/plain": [
       "{'number': [1, 2, 3, 4], 'data': [43, 48, 'asir laskar']}"
      ]
     },
     "execution_count": 67,
     "metadata": {},
     "output_type": "execute_result"
    }
   ],
   "source": [
    "d6"
   ]
  },
  {
   "cell_type": "code",
   "execution_count": 68,
   "id": "cdaa768f-dc9f-4d80-b554-2d4d389fd0f0",
   "metadata": {},
   "outputs": [
    {
     "ename": "NameError",
     "evalue": "name 'marks' is not defined",
     "output_type": "error",
     "traceback": [
      "\u001b[0;31m---------------------------------------------------------------------------\u001b[0m",
      "\u001b[0;31mNameError\u001b[0m                                 Traceback (most recent call last)",
      "Cell \u001b[0;32mIn[68], line 1\u001b[0m\n\u001b[0;32m----> 1\u001b[0m \u001b[38;5;28;01mif\u001b[39;00m \u001b[43mmarks\u001b[49m \u001b[38;5;241m>\u001b[39m\u001b[38;5;241m=\u001b[39m \u001b[38;5;241m80\u001b[39m :\n\u001b[1;32m      2\u001b[0m     \u001b[38;5;28mprint\u001b[39m(\u001b[38;5;124m'\u001b[39m\u001b[38;5;124m you will be a part of us\u001b[39m\u001b[38;5;124m'\u001b[39m)\n",
      "\u001b[0;31mNameError\u001b[0m: name 'marks' is not defined"
     ]
    }
   ],
   "source": [
    "if marks >= 80 :\n",
    "    print(' you will be a part of us')"
   ]
  },
  {
   "cell_type": "code",
   "execution_count": 70,
   "id": "df96bbe3-53fa-413f-ae4d-87b8ba1f08b2",
   "metadata": {},
   "outputs": [
    {
     "name": "stdout",
     "output_type": "stream",
     "text": [
      "you are not a part of us\n"
     ]
    }
   ],
   "source": [
    "marks=65\n",
    "if marks >= 80 :\n",
    "    print(' you will be a part of us')\n",
    "elif marks >= 60 and marks <80:\n",
    "    print ('you are not a part of us')\n",
    "else :\n",
    "    print( ' you are done')\n",
    "    "
   ]
  },
  {
   "cell_type": "code",
   "execution_count": 71,
   "id": "d0c9db20-bb7f-4f72-8a84-be2539bbf9fa",
   "metadata": {},
   "outputs": [
    {
     "name": "stdout",
     "output_type": "stream",
     "text": [
      " you will be a part of us\n"
     ]
    }
   ],
   "source": [
    "marks=74845\n",
    "if marks >= 80 :\n",
    "    print(' you will be a part of us')\n",
    "elif marks >= 60 and marks <80:\n",
    "    print ('you are not a part of us')\n",
    "else :\n",
    "    print( ' you are done')"
   ]
  },
  {
   "cell_type": "code",
   "execution_count": 72,
   "id": "87fea2c8-38b5-41f4-b3ce-82956c12c209",
   "metadata": {},
   "outputs": [
    {
     "name": "stdout",
     "output_type": "stream",
     "text": [
      " you are done\n"
     ]
    }
   ],
   "source": [
    "marks= -74845\n",
    "if marks >= 80 :\n",
    "    print(' you will be a part of us')\n",
    "elif marks >= 60 and marks <80:\n",
    "    print ('you are not a part of us')\n",
    "else :\n",
    "    print( ' you are done')"
   ]
  },
  {
   "cell_type": "code",
   "execution_count": 73,
   "id": "08293079-ac80-4ea3-a09f-c3fb1f37b867",
   "metadata": {},
   "outputs": [
    {
     "data": {
      "text/plain": [
       "False"
      ]
     },
     "execution_count": 73,
     "metadata": {},
     "output_type": "execute_result"
    }
   ],
   "source": [
    "10 >=80"
   ]
  },
  {
   "cell_type": "code",
   "execution_count": 75,
   "id": "daefa9a1-af96-49c0-9a6f-efb78a8d1f7c",
   "metadata": {},
   "outputs": [
    {
     "data": {
      "text/plain": [
       "True"
      ]
     },
     "execution_count": 75,
     "metadata": {},
     "output_type": "execute_result"
    }
   ],
   "source": [
    "10>=10"
   ]
  },
  {
   "cell_type": "code",
   "execution_count": 76,
   "id": "2f0304ef-ab56-41b3-ab98-8403d6f7ae0a",
   "metadata": {},
   "outputs": [
    {
     "data": {
      "text/plain": [
       "True"
      ]
     },
     "execution_count": 76,
     "metadata": {},
     "output_type": "execute_result"
    }
   ],
   "source": [
    "80>10"
   ]
  },
  {
   "cell_type": "code",
   "execution_count": null,
   "id": "10840b1b-23a4-498d-9ae7-ea86c6c5fc51",
   "metadata": {},
   "outputs": [],
   "source": [
    "marks= int(input('enter your marks'))\n",
    "if marks >= 80 :\n",
    "    print(' you will be a part of us')\n",
    "elif marks >= 60 and marks <80:\n",
    "    print ('you are not a part of us')\n",
    "else :\n",
    "    print( ' you are done')"
   ]
  },
  {
   "cell_type": "code",
   "execution_count": null,
   "id": "ff3334e1-d5c9-464e-9d77-a65dd60f0f6e",
   "metadata": {},
   "outputs": [],
   "source": [
    "marks2 = int(input('marks'))"
   ]
  },
  {
   "cell_type": "code",
   "execution_count": null,
   "id": "f8d3539e-38c1-449c-82c5-6a39a88afe5c",
   "metadata": {},
   "outputs": [],
   "source": []
  },
  {
   "cell_type": "code",
   "execution_count": null,
   "id": "fc20025d-1393-4b83-9011-4bf74ea2d73e",
   "metadata": {},
   "outputs": [],
   "source": []
  }
 ],
 "metadata": {
  "kernelspec": {
   "display_name": "Python 3 (ipykernel)",
   "language": "python",
   "name": "python3"
  },
  "language_info": {
   "codemirror_mode": {
    "name": "ipython",
    "version": 3
   },
   "file_extension": ".py",
   "mimetype": "text/x-python",
   "name": "python",
   "nbconvert_exporter": "python",
   "pygments_lexer": "ipython3",
   "version": "3.10.8"
  }
 },
 "nbformat": 4,
 "nbformat_minor": 5
}
